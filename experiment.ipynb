{
 "cells": [
  {
   "cell_type": "markdown",
   "metadata": {},
   "source": [
    "### Experimentation Notebook\n",
    "\n",
    "This notebook demonstrates how calls can be made to the Azure Functions App"
   ]
  },
  {
   "cell_type": "code",
   "execution_count": 27,
   "metadata": {},
   "outputs": [],
   "source": [
    "from api.app import RagnalysisClient\n",
    "client = RagnalysisClient()"
   ]
  },
  {
   "cell_type": "code",
   "execution_count": 28,
   "metadata": {},
   "outputs": [
    {
     "data": {
      "text/plain": [
       "['llama', 'mistral', 'gpt35a', 'gpt35b', 'gpt4', 'qwen']"
      ]
     },
     "execution_count": 28,
     "metadata": {},
     "output_type": "execute_result"
    }
   ],
   "source": [
    "# List models\n",
    "client.get_models()"
   ]
  },
  {
   "cell_type": "code",
   "execution_count": 29,
   "metadata": {},
   "outputs": [
    {
     "name": "stdout",
     "output_type": "stream",
     "text": [
      "{ 'parameters': {'body': 'What is life?', 'chunk_limit': 150, 'do_sample': True, 'frequency_penalty': 0.0, 'k': 3, 'max_new_tokens': 200, 'model': 'gpt35_4k', 'presence_penalty': 0.0, 'prompt': 'Answer: What is life? ', 'temperature': 0.9, 'top_p': 0.9, 'use_rag': False},\n",
      "  'response': 'Life can be defined as the condition that distinguishes organisms from inorganic matter, characterized by processes such as metabolism, growth, reproduction, and response to stimuli. It encompasses the physical, mental, and social experiences that living beings go through. Life is also often associated with the presence of consciousness and the ability to experience and interact with the world.',\n",
      "  'sources': [ {'chunks': 'I now turn to my calling, promising to preserve its finest traditions, with the reward of long experience in the joy of healing. This promise is made freely and without coercion. Life is what we make it, always has been, always will be. The best way to predict your own future is to create it and live to it. It is under the greatest adversity that there exists the greatest potential for doing well.', 'similarity': 0.8303951025009155, 'title': 'Working for my dream', 'url': 'https://medium.com/@thinkafrika/working-for-my-dream-43bbab1d245e'},\n",
      "               { 'chunks': 'regular lives. The Torah or Old Testament outlines +600 guidelines for how to live — from business ethics, to martial relations, to food, and more. Religious guidelines do not save all but they do provide a robust infrastructure for life. Support systems ideally consist of many factors: family, friends, community, clergy, clinical professionals, prayer, exposure to nature, art, and a higher purpose. Life is not a one size fits all. For example, once there was a joyful wedding and the guests danced with glee. One individual remained outside the dance circle. The question arose: should we pull them in? It seemed like a nice thing to do, to encourage them to be happy. But what if the person is feeling too depressed to join in? We do not know what others are feeling. Life is complex and nuanced so we exercise caution (Lekutei Moharan). If a life is in danger, we take action to save lives. American trends and Judaism both say, in an emergency, call a hotline, a doctor, 911, inquire about',\n",
      "                 'similarity': 0.8184138536453247,\n",
      "                 'title': '“Learning about mental health in Community”',\n",
      "                 'url': 'https://medium.com/@aviva-26067/learning-about-mental-health-in-community-1669354b3cbe'},\n",
      "               { 'chunks': 'the development of new medicines with Orkambi (a combination of Kalydeco and Lumacaftor) recently approved for CF and ensure patient access to these transformative drugs. Other examples of successful patient-driven drug development are LifeArc and Keytruda along with the Juvenile Diabetes Research Foundation, Emerson Collective, PICI, and the Michael J. Fox Foundation. These groups have the power to lower the barriers for drug development in particular diseases by providing patients, scientific expertise, and capital. A revolution for BMTs Orca Bio published recent data at ASH https://orcabio.com/ASH_2020_Orca_Bio.pdf after years of work to show massive reductions in GvHD. Congratulations to Ivan, Nate, and everyone on the team. The best is yet to come. What is Life? cont. In Chapter 6 (Order, Disorder, and Entropy) of What is Life?, Schrödinger discusses the interplay of order and disorder for life. In short, he concludes a major feature of life is its ability to export entropy. Life',\n",
      "                 'similarity': 0.8160872459411621,\n",
      "                 'title': 'Axial — Observations #40. Get these analyses to your inbox —…',\n",
      "                 'url': 'https://medium.com/@axialxyz/axial-observations-40-2a1b71de20dc'}]}\n"
     ]
    }
   ],
   "source": [
    "# RAG\n",
    "from pprint import pprint\n",
    "response = client.gpt3s('What is life?', use_rag=False)\n",
    "pprint(response, indent=2, width=1050)"
   ]
  },
  {
   "cell_type": "code",
   "execution_count": 30,
   "metadata": {},
   "outputs": [
    {
     "name": "stdout",
     "output_type": "stream",
     "text": [
      "{ 'parameters': {'body': 'What is life?', 'chunk_limit': 150, 'do_sample': True, 'frequency_penalty': 0.0, 'k': 3, 'max_new_tokens': 200, 'model': 'gpt35_4k', 'presence_penalty': 0.0, 'prompt': 'Answer: What is life? ', 'temperature': 0.9, 'top_p': 0.9, 'use_rag': False},\n",
      "  'response': 'Life is a complex phenomenon that involves various processes and characteristics such as growth, reproduction, metabolism, and response to stimuli. It encompasses the existence of living organisms, including plants, animals, and humans, and the interactions they have with their environment. Life is characterized by the ability to adapt and evolve, and it is often considered to be '\n",
      "              'a precious and valuable aspect of the universe.',\n",
      "  'sources': [ { 'chunks': 'I now turn to my calling, promising to preserve its finest traditions, with the reward of long experience in the joy of healing. This promise is made freely and without coercion. Life is what we make it, always has been, always will be. The best way to predict your own future is to create it and live to it. It is under the greatest adversity that there exists the '\n",
      "                           'greatest potential for doing well.',\n",
      "                 'similarity': 0.8303951025009155,\n",
      "                 'title': 'Working for my dream',\n",
      "                 'url': 'https://medium.com/@thinkafrika/working-for-my-dream-43bbab1d245e'},\n",
      "               { 'chunks': 'regular lives. The Torah or Old Testament outlines +600 guidelines for how to live — from business ethics, to martial relations, to food, and more. Religious guidelines do not save all but they do provide a robust infrastructure for life. Support systems ideally consist of many factors: family, friends, community, clergy, clinical professionals, prayer, exposure to '\n",
      "                           'nature, art, and a higher purpose. Life is not a one size fits all. For example, once there was a joyful wedding and the guests danced with glee. One individual remained outside the dance circle. The question arose: should we pull them in? It seemed like a nice thing to do, to encourage them to be happy. But what if the person is feeling too depressed to join in? We '\n",
      "                           'do not know what others are feeling. Life is complex and nuanced so we exercise caution (Lekutei Moharan). If a life is in danger, we take action to save lives. American trends and Judaism both say, in an emergency, call a hotline, a doctor, 911, inquire about',\n",
      "                 'similarity': 0.8184138536453247,\n",
      "                 'title': '“Learning about mental health in Community”',\n",
      "                 'url': 'https://medium.com/@aviva-26067/learning-about-mental-health-in-community-1669354b3cbe'},\n",
      "               { 'chunks': 'the development of new medicines with Orkambi (a combination of Kalydeco and Lumacaftor) recently approved for CF and ensure patient access to these transformative drugs. Other examples of successful patient-driven drug development are LifeArc and Keytruda along with the Juvenile Diabetes Research Foundation, Emerson Collective, PICI, and the Michael J. Fox '\n",
      "                           'Foundation. These groups have the power to lower the barriers for drug development in particular diseases by providing patients, scientific expertise, and capital. A revolution for BMTs Orca Bio published recent data at ASH https://orcabio.com/ASH_2020_Orca_Bio.pdf after years of work to show massive reductions in GvHD. Congratulations to Ivan, Nate, and everyone on '\n",
      "                           'the team. The best is yet to come. What is Life? cont. In Chapter 6 (Order, Disorder, and Entropy) of What is Life?, Schrödinger discusses the interplay of order and disorder for life. In short, he concludes a major feature of life is its ability to export entropy. Life',\n",
      "                 'similarity': 0.8160872459411621,\n",
      "                 'title': 'Axial — Observations #40. Get these analyses to your inbox —…',\n",
      "                 'url': 'https://medium.com/@axialxyz/axial-observations-40-2a1b71de20dc'}]}\n"
     ]
    }
   ],
   "source": [
    "# Configuration\n",
    "response = client.gpt3s(\n",
    "                prompt =                'What is life?',\n",
    "                use_rag =               False,\n",
    "                temperature =           0.9,\n",
    "                top_p =                 0.9,\n",
    "                do_sample =             True,\n",
    "                frequency_penalty =     0,\n",
    "                presence_penalty =      0,\n",
    "                max_new_tokens =        200,\n",
    "                chunk_limit =           150,\n",
    "                k =                     3\n",
    "            )\n",
    "\n",
    "pprint(response, indent=2, width=400)"
   ]
  }
 ],
 "metadata": {
  "kernelspec": {
   "display_name": ".venv",
   "language": "python",
   "name": "python3"
  },
  "language_info": {
   "codemirror_mode": {
    "name": "ipython",
    "version": 3
   },
   "file_extension": ".py",
   "mimetype": "text/x-python",
   "name": "python",
   "nbconvert_exporter": "python",
   "pygments_lexer": "ipython3",
   "version": "3.10.4"
  }
 },
 "nbformat": 4,
 "nbformat_minor": 2
}
