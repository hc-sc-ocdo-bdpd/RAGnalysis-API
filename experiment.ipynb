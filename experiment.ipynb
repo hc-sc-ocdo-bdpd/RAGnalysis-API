{
 "cells": [
  {
   "cell_type": "markdown",
   "metadata": {},
   "source": [
    "### Experimentation Notebook\n",
    "\n",
    "This notebook demonstrates how calls can be made to the Azure Functions App"
   ]
  },
  {
   "cell_type": "code",
   "execution_count": 14,
   "metadata": {},
   "outputs": [
    {
     "name": "stdout",
     "output_type": "stream",
     "text": [
      "Defaulting to user installation because normal site-packages is not writeable\n",
      "Requirement already satisfied: requests in c:\\users\\pgavigan\\appdata\\roaming\\python\\python310\\site-packages (2.31.0)\n",
      "Requirement already satisfied: idna<4,>=2.5 in c:\\users\\pgavigan\\appdata\\roaming\\python\\python310\\site-packages (from requests) (3.6)\n",
      "Requirement already satisfied: certifi>=2017.4.17 in c:\\users\\pgavigan\\appdata\\roaming\\python\\python310\\site-packages (from requests) (2024.2.2)\n",
      "Requirement already satisfied: charset-normalizer<4,>=2 in c:\\users\\pgavigan\\appdata\\roaming\\python\\python310\\site-packages (from requests) (3.3.2)\n",
      "Requirement already satisfied: urllib3<3,>=1.21.1 in c:\\users\\pgavigan\\appdata\\roaming\\python\\python310\\site-packages (from requests) (2.2.1)\n",
      "Note: you may need to restart the kernel to use updated packages.\n"
     ]
    },
    {
     "name": "stderr",
     "output_type": "stream",
     "text": [
      "WARNING: You are using pip version 22.0.4; however, version 24.0 is available.\n",
      "You should consider upgrading via the 'c:\\Program Files\\Python310\\python.exe -m pip install --upgrade pip' command.\n"
     ]
    },
    {
     "name": "stdout",
     "output_type": "stream",
     "text": [
      "Defaulting to user installation because normal site-packages is not writeable\n",
      "Collecting python-dotenv\n",
      "  Downloading python_dotenv-1.0.1-py3-none-any.whl (19 kB)\n",
      "Installing collected packages: python-dotenv\n",
      "Successfully installed python-dotenv-1.0.1\n",
      "Note: you may need to restart the kernel to use updated packages.\n"
     ]
    },
    {
     "name": "stderr",
     "output_type": "stream",
     "text": [
      "WARNING: You are using pip version 22.0.4; however, version 24.0 is available.\n",
      "You should consider upgrading via the 'c:\\Program Files\\Python310\\python.exe -m pip install --upgrade pip' command.\n"
     ]
    }
   ],
   "source": [
    "from api.app import RagnalysisClient\n",
    "client = RagnalysisClient()"
   ]
  },
  {
   "cell_type": "code",
   "execution_count": null,
   "metadata": {},
   "outputs": [
    {
     "data": {
      "text/plain": [
       "['llama', 'mistral', 'gpt35a', 'gpt35b', 'gpt4', 'qwen']"
      ]
     },
     "execution_count": 2,
     "metadata": {},
     "output_type": "execute_result"
    }
   ],
   "source": [
    "# List models\n",
    "client.get_models()"
   ]
  },
  {
   "cell_type": "code",
   "execution_count": null,
   "metadata": {},
   "outputs": [
    {
     "name": "stdout",
     "output_type": "stream",
     "text": [
      "{ 'parameters': {'body': 'What is life?', 'chunk_limit': 150, 'do_sample': True, 'frequency_penalty': 0.0, 'k': 3, 'max_new_tokens': 200, 'model': 'qwen', 'presence_penalty': 0.0, 'prompt': 'Answer: What is life? ', 'temperature': 0.9, 'top_p': 0.9, 'use_rag': False},\n",
      "  'response': 'Life is a complex and multifaceted phenomenon that can be broadly defined as the characteristic of organisms, processes, and systems that exhibit growth, reproduction, adaptation, response to stimuli, and consciousness or awareness. It is a fundamental aspect of the universe, observed in all forms of living beings from单细胞 organisms like bacteria to complex organisms like humans.\\n'\n",
      "              '\\n'\n",
      "              'Life encompasses a wide range of physical, chemical, and biological processes. At its core, it involves metabolism, which is the continuous conversion of energy from external sources (like sunlight or food) into chemical energy that sustains cellular functions. Organisms are composed of cells, which have their own DNA that carries hereditary information and undergoes cellular division to regenerate new cells.\\n'\n",
      "              '\\n'\n",
      "              'Life is marked by diversity, with organisms existing in various ecosystems and adapted to different environments. Evolutionary theory explains how species evolve over time through natural selection, genetic changes, and intergenerational transmission of traits.\\n'\n",
      "              '\\n'\n",
      "              'Life also involves behavior and cognition, enabling organisms to interact with their surroundings,',\n",
      "  'sources': [ {'chunks': 'I now turn to my calling, promising to preserve its finest traditions, with the reward of long experience in the joy of healing. This promise is made freely and without coercion. Life is what we make it, always has been, always will be. The best way to predict your own future is to create it and live to it. It is under the greatest adversity that there exists the greatest potential for doing well.', 'similarity': 0.8303951025009155, 'title': 'Working for my dream', 'url': 'https://medium.com/@thinkafrika/working-for-my-dream-43bbab1d245e'},\n",
      "               { 'chunks': 'regular lives. The Torah or Old Testament outlines +600 guidelines for how to live — from business ethics, to martial relations, to food, and more. Religious guidelines do not save all but they do provide a robust infrastructure for life. Support systems ideally consist of many factors: family, friends, community, clergy, clinical professionals, prayer, exposure to nature, art, and a higher purpose. Life is not a one size fits all. For example, once there was a joyful wedding and the guests danced with glee. One individual remained outside the dance circle. The question arose: should we pull them in? It seemed like a nice thing to do, to encourage them to be happy. But what if the person is feeling too depressed to join in? We do not know what others are feeling. Life is complex and nuanced so we exercise caution (Lekutei Moharan). If a life is in danger, we take action to save lives. American trends and Judaism both say, in an emergency, call a hotline, a doctor, 911, inquire about',\n",
      "                 'similarity': 0.8184138536453247,\n",
      "                 'title': '“Learning about mental health in Community”',\n",
      "                 'url': 'https://medium.com/@aviva-26067/learning-about-mental-health-in-community-1669354b3cbe'},\n",
      "               { 'chunks': 'the development of new medicines with Orkambi (a combination of Kalydeco and Lumacaftor) recently approved for CF and ensure patient access to these transformative drugs. Other examples of successful patient-driven drug development are LifeArc and Keytruda along with the Juvenile Diabetes Research Foundation, Emerson Collective, PICI, and the Michael J. Fox Foundation. These groups have the power to lower the barriers for drug development in particular diseases by providing patients, scientific expertise, and capital. A revolution for BMTs Orca Bio published recent data at ASH https://orcabio.com/ASH_2020_Orca_Bio.pdf after years of work to show massive reductions in GvHD. Congratulations to Ivan, Nate, and everyone on the team. The best is yet to come. What is Life? cont. In Chapter 6 (Order, Disorder, and Entropy) of What is Life?, Schrödinger discusses the interplay of order and disorder for life. In short, he concludes a major feature of life is its ability to export entropy. Life',\n",
      "                 'similarity': 0.8160872459411621,\n",
      "                 'title': 'Axial — Observations #40. Get these analyses to your inbox —…',\n",
      "                 'url': 'https://medium.com/@axialxyz/axial-observations-40-2a1b71de20dc'}]}\n"
     ]
    }
   ],
   "source": [
    "# RAG\n",
    "from pprint import pprint\n",
    "\n",
    "response = client.qwen('What is life?', use_rag=False)\n",
    "\n",
    "pprint(response, indent=2, width=1050)"
   ]
  },
  {
   "cell_type": "code",
   "execution_count": null,
   "metadata": {},
   "outputs": [
    {
     "name": "stdout",
     "output_type": "stream",
     "text": [
      "{ 'parameters': {'body': 'What is life?', 'chunk_limit': 150, 'do_sample': True, 'frequency_penalty': 0.0, 'k': 3, 'max_new_tokens': 200, 'model': 'gpt35_4k', 'presence_penalty': 0.0, 'prompt': 'Answer: What is life? ', 'temperature': 0.9, 'top_p': 0.9, 'use_rag': False},\n",
      "  'response': \"Life is a complex and multifaceted concept that can be understood in various ways depending on one's perspective. From a biological standpoint, life refers to the state of being alive, characterized by the presence of certain processes and functions such as growth, reproduction, metabolism, and response to stimuli. It encompasses all living organisms, including plants, animals, \"\n",
      "              'and microorganisms.\\n'\n",
      "              '\\n'\n",
      "              'However, life can also be seen as a broader concept that encompasses more than just biological existence. It can be understood as the experience of being conscious and having the ability to think, feel, and engage with the world around us. Life can be filled with meaning, purpose, and a wide range of emotions and experiences.\\n'\n",
      "              '\\n'\n",
      "              'Additionally, life can be viewed in a philosophical or existential sense, exploring questions about the nature of existence, the meaning of life, and the purpose of our individual and collective experiences. It can involve pondering about our values, beliefs, relationships, and the choices we make.\\n'\n",
      "              '\\n'\n",
      "              'Ultimately, the concept of life is complex',\n",
      "  'sources': [ { 'chunks': 'I now turn to my calling, promising to preserve its finest traditions, with the reward of long experience in the joy of healing. This promise is made freely and without coercion. Life is what we make it, always has been, always will be. The best way to predict your own future is to create it and live to it. It is under the greatest adversity that there exists the '\n",
      "                           'greatest potential for doing well.',\n",
      "                 'similarity': 0.8303951025009155,\n",
      "                 'title': 'Working for my dream',\n",
      "                 'url': 'https://medium.com/@thinkafrika/working-for-my-dream-43bbab1d245e'},\n",
      "               { 'chunks': 'regular lives. The Torah or Old Testament outlines +600 guidelines for how to live — from business ethics, to martial relations, to food, and more. Religious guidelines do not save all but they do provide a robust infrastructure for life. Support systems ideally consist of many factors: family, friends, community, clergy, clinical professionals, prayer, exposure to '\n",
      "                           'nature, art, and a higher purpose. Life is not a one size fits all. For example, once there was a joyful wedding and the guests danced with glee. One individual remained outside the dance circle. The question arose: should we pull them in? It seemed like a nice thing to do, to encourage them to be happy. But what if the person is feeling too depressed to join in? We '\n",
      "                           'do not know what others are feeling. Life is complex and nuanced so we exercise caution (Lekutei Moharan). If a life is in danger, we take action to save lives. American trends and Judaism both say, in an emergency, call a hotline, a doctor, 911, inquire about',\n",
      "                 'similarity': 0.8184138536453247,\n",
      "                 'title': '“Learning about mental health in Community”',\n",
      "                 'url': 'https://medium.com/@aviva-26067/learning-about-mental-health-in-community-1669354b3cbe'},\n",
      "               { 'chunks': 'the development of new medicines with Orkambi (a combination of Kalydeco and Lumacaftor) recently approved for CF and ensure patient access to these transformative drugs. Other examples of successful patient-driven drug development are LifeArc and Keytruda along with the Juvenile Diabetes Research Foundation, Emerson Collective, PICI, and the Michael J. Fox '\n",
      "                           'Foundation. These groups have the power to lower the barriers for drug development in particular diseases by providing patients, scientific expertise, and capital. A revolution for BMTs Orca Bio published recent data at ASH https://orcabio.com/ASH_2020_Orca_Bio.pdf after years of work to show massive reductions in GvHD. Congratulations to Ivan, Nate, and everyone on '\n",
      "                           'the team. The best is yet to come. What is Life? cont. In Chapter 6 (Order, Disorder, and Entropy) of What is Life?, Schrödinger discusses the interplay of order and disorder for life. In short, he concludes a major feature of life is its ability to export entropy. Life',\n",
      "                 'similarity': 0.8160872459411621,\n",
      "                 'title': 'Axial — Observations #40. Get these analyses to your inbox —…',\n",
      "                 'url': 'https://medium.com/@axialxyz/axial-observations-40-2a1b71de20dc'}]}\n"
     ]
    }
   ],
   "source": [
    "# Configuration\n",
    "response = client.gpt3s(\n",
    "                prompt =                'What is life?',\n",
    "                use_rag =               False,\n",
    "                temperature =           0.9,\n",
    "                top_p =                 0.9,\n",
    "                do_sample =             True,\n",
    "                frequency_penalty =     0,\n",
    "                presence_penalty =      0,\n",
    "                max_new_tokens =        200,\n",
    "                chunk_limit =           150,\n",
    "                k =                     3\n",
    "            )\n",
    "\n",
    "pprint(response, indent=2, width=400)"
   ]
  }
 ],
 "metadata": {
  "kernelspec": {
   "display_name": ".venv",
   "language": "python",
   "name": "python3"
  },
  "language_info": {
   "codemirror_mode": {
    "name": "ipython",
    "version": 3
   },
   "file_extension": ".py",
   "mimetype": "text/x-python",
   "name": "python",
   "nbconvert_exporter": "python",
   "pygments_lexer": "ipython3",
   "version": "3.10.4"
  }
 },
 "nbformat": 4,
 "nbformat_minor": 2
}
